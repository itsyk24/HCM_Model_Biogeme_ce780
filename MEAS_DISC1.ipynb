{
 "cells": [
  {
   "cell_type": "code",
   "execution_count": 1,
   "id": "b618e038-986f-471a-ae6d-030a56343ed4",
   "metadata": {},
   "outputs": [
    {
     "name": "stderr",
     "output_type": "stream",
     "text": [
      "Example m01_latent_variable.py \n"
     ]
    }
   ],
   "source": [
    "import biogeme.biogeme_logging as blog\n",
    "import biogeme.biogeme as bio\n",
    "from biogeme.expressions import (\n",
    "    Beta,\n",
    "    log,\n",
    "    Elem,\n",
    "    bioNormalCdf,\n",
    "    Variable,\n",
    "    bioMultSum,\n",
    ")\n",
    "\n",
    "from optima import (\n",
    "    read_data,\n",
    "    male,\n",
    "    age,\n",
    "    haveChildren,\n",
    "    highEducation,\n",
    "    SocioProfCat,\n",
    ")\n",
    "\n",
    "logger = blog.get_screen_logger(level=blog.INFO)\n",
    "logger.info('Example m01_latent_variable.py')"
   ]
  },
  {
   "cell_type": "code",
   "execution_count": 2,
   "id": "dacb4a3f-e749-4ec9-add4-ac9e6234c5b1",
   "metadata": {},
   "outputs": [],
   "source": [
    "coef_intercept = Beta('coef_intercept', 0.0, None, None, 0)\n",
    "coef_age_50_less = Beta('coef_age_50_less', 0.0, None, None, 0)\n",
    "coef_male = Beta('coef_male', 0.0, None, None, 0)\n",
    "coef_haveChildren = Beta('coef_haveChildren', 0.0, None, None, 0)\n",
    "coef_highEducation = Beta('coef_highEducation', 0.0, None, None, 0)\n",
    "coef_employees = Beta('coef_employees', 0.0, None, None, 0)"
   ]
  },
  {
   "cell_type": "code",
   "execution_count": 3,
   "id": "176a2dd9-8dfd-454a-aed2-5ee0f29c84ce",
   "metadata": {},
   "outputs": [],
   "source": [
    "ACTIVELIFE = (\n",
    "    coef_intercept\n",
    "        + coef_highEducation * highEducation\n",
    "    + coef_employees * (SocioProfCat == 6)\n",
    "    + coef_age_50_less * (age <= 50)\n",
    "    + coef_male * male\n",
    "    + coef_haveChildren * haveChildren\n",
    ")"
   ]
  },
  {
   "cell_type": "code",
   "execution_count": 4,
   "id": "ba4275a6-797b-45c1-b455-4bedfe69e6ff",
   "metadata": {},
   "outputs": [],
   "source": [
    "indicators = [\n",
    "    'ResidCh01',\n",
    "    'ResidCh04',\n",
    "    'ResidCh05',\n",
    "    'ResidCh06',\n",
    "    'LifSty07',\n",
    "    'LifSty10',\n",
    "]"
   ]
  },
  {
   "cell_type": "code",
   "execution_count": 5,
   "id": "bd3e5bc3-ac3d-4562-b4ae-a7a23c6536de",
   "metadata": {},
   "outputs": [],
   "source": [
    "inter = {k: Beta(f'inter_{k}', 0, None, None, 0) for k in indicators[1:]}\n",
    "inter[indicators[0]] = Beta(f'INTER_{indicators[0]}', 0, None, None, 1)"
   ]
  },
  {
   "cell_type": "code",
   "execution_count": 6,
   "id": "bb12a3de-51cd-4097-bccc-b67cc863647b",
   "metadata": {},
   "outputs": [],
   "source": [
    "coefficients = {k: Beta(f'coeff_{k}', 0, None, None, 0) for k in indicators[1:]}\n",
    "coefficients[indicators[0]] = Beta(f'B_{indicators[0]}', 1, None, None, 1)"
   ]
  },
  {
   "cell_type": "code",
   "execution_count": 7,
   "id": "26bc76fa-ca59-481e-bc97-1348bd2cb3a9",
   "metadata": {},
   "outputs": [],
   "source": [
    "models = {k: inter[k] + coefficients[k] * ACTIVELIFE for k in indicators}"
   ]
  },
  {
   "cell_type": "code",
   "execution_count": 8,
   "id": "19e133fb-b243-4e59-ad76-e8f31adf9061",
   "metadata": {},
   "outputs": [],
   "source": [
    "sigma_star = {k: Beta(f'sigma_star_{k}', 1, 1.0e-5, None, 0) for k in indicators[1:]}\n",
    "sigma_star[indicators[0]] = Beta(f'sigma_star_{indicators[0]}', 1, None, None, 1)"
   ]
  },
  {
   "cell_type": "code",
   "execution_count": 9,
   "id": "6aff5b06-24b6-466a-99ba-2f28e2fd80a7",
   "metadata": {},
   "outputs": [],
   "source": [
    "delta_1 = Beta('delta_1', 0.1, 1.0e-5, None, 0)\n",
    "delta_2 = Beta('delta_2', 0.2, 1.0e-5, None, 0)\n",
    "tau_1 = -delta_1 - delta_2\n",
    "tau_2 = -delta_1\n",
    "tau_3 = delta_1\n",
    "tau_4 = delta_1 + delta_2"
   ]
  },
  {
   "cell_type": "code",
   "execution_count": 10,
   "id": "1375c041-9aca-4bc9-b71d-e4973192e40b",
   "metadata": {},
   "outputs": [],
   "source": [
    "tau_1_residual = {k: (tau_1 - models[k]) / sigma_star[k] for k in indicators}\n",
    "tau_2_residual = {k: (tau_2 - models[k]) / sigma_star[k] for k in indicators}\n",
    "tau_3_residual = {k: (tau_3 - models[k]) / sigma_star[k] for k in indicators}\n",
    "tau_4_residual = {k: (tau_4 - models[k]) / sigma_star[k] for k in indicators}\n",
    "dict_prob_indicators = {\n",
    "    k: {\n",
    "        1: bioNormalCdf(tau_1_residual[k]),\n",
    "        2: bioNormalCdf(tau_2_residual[k]) - bioNormalCdf(tau_1_residual[k]),\n",
    "        3: bioNormalCdf(tau_3_residual[k]) - bioNormalCdf(tau_2_residual[k]),\n",
    "        4: bioNormalCdf(tau_4_residual[k]) - bioNormalCdf(tau_3_residual[k]),\n",
    "        5: 1 - bioNormalCdf(tau_4_residual[k]),\n",
    "        6: 1.0,\n",
    "        -1: 1.0,\n",
    "        -2: 1.0,\n",
    "    }\n",
    "    for k in indicators\n",
    "}"
   ]
  },
  {
   "cell_type": "code",
   "execution_count": 11,
   "id": "7a14ca9e-cc43-4d02-a125-2422b5f99b35",
   "metadata": {},
   "outputs": [],
   "source": [
    "log_proba = {k: log(Elem(dict_prob_indicators[k], Variable(k))) for k in indicators}\n",
    "loglike = bioMultSum(log_proba)"
   ]
  },
  {
   "cell_type": "code",
   "execution_count": 12,
   "id": "0b604a4d-4b7a-4600-906c-1c687502fd90",
   "metadata": {},
   "outputs": [],
   "source": [
    "database = read_data()"
   ]
  },
  {
   "cell_type": "code",
   "execution_count": 13,
   "id": "5874fa38-6020-48c1-9a4a-7c5b200205a0",
   "metadata": {},
   "outputs": [
    {
     "name": "stderr",
     "output_type": "stream",
     "text": [
      "Default values of the Biogeme parameters are used. \n",
      "File biogeme.toml has been created \n"
     ]
    }
   ],
   "source": [
    "biogeme = bio.BIOGEME(database, loglike)\n",
    "biogeme.modelName = 'm01_latent_variable'"
   ]
  },
  {
   "cell_type": "code",
   "execution_count": 14,
   "id": "fc7a0a76-4104-4798-8986-b5f8db317a6c",
   "metadata": {},
   "outputs": [
    {
     "name": "stderr",
     "output_type": "stream",
     "text": [
      "As the model is not too complex, we activate the calculation of second derivatives. If you want to change it, change the name of the algorithm in the TOML file from \"automatic\" to \"simple_bounds\" \n",
      "*** Initial values of the parameters are obtained from the file __m01_latent_variable.iter \n",
      "Cannot read file __m01_latent_variable.iter. Statement is ignored. \n",
      "As the model is not too complex, we activate the calculation of second derivatives. If you want to change it, change the name of the algorithm in the TOML file from \"automatic\" to \"simple_bounds\" \n",
      "Optimization algorithm: hybrid Newton/BFGS with simple bounds [simple_bounds] \n",
      "** Optimization: Newton with trust region for simple bounds \n",
      "Iter.     Function    Relgrad   Radius      Rho      \n",
      "    0      2.2e+04        1.2      0.5        0    - \n",
      "    1      1.6e+04       0.38        5      1.1   ++ \n",
      "    2      1.6e+04       0.38      2.5      1.1    - \n",
      "    3      1.6e+04       0.38      1.2      1.1    - \n",
      "    4      1.6e+04       0.38     0.62      1.1    - \n",
      "    5      1.6e+04       0.38     0.31      1.1    - \n",
      "    6      1.5e+04       0.12     0.31     0.67    + \n",
      "    7      1.5e+04      0.056      3.1      1.2   ++ \n",
      "    8      1.5e+04      0.056      1.6      -47    - \n",
      "    9      1.5e+04      0.056     0.78     -7.8    - \n",
      "   10      1.4e+04      0.041     0.78     0.28    + \n",
      "   11      1.4e+04      0.041     0.39     -1.3    - \n",
      "   12      1.4e+04     0.0062      3.9        1   ++ \n",
      "   13      1.4e+04     0.0062     0.41    -0.04    - \n",
      "   14      1.4e+04     0.0047     0.41     0.63    + \n",
      "   15      1.4e+04     0.0013      4.1     0.96   ++ \n",
      "   16      1.4e+04     0.0011       41        1   ++ \n",
      "   17      1.4e+04    0.00085  4.1e+02        1   ++ \n",
      "   18      1.4e+04    0.00044  4.1e+03      1.1   ++ \n",
      "   19      1.4e+04    6.1e-05  4.1e+03      1.1   ++ \n",
      "Results saved in file m01_latent_variable.html \n",
      "Results saved in file m01_latent_variable.pickle \n"
     ]
    }
   ],
   "source": [
    "results = biogeme.estimate()"
   ]
  },
  {
   "cell_type": "code",
   "execution_count": 15,
   "id": "4167bf72-a9ff-4eca-841c-c3b9e8dccbeb",
   "metadata": {},
   "outputs": [
    {
     "data": {
      "text/html": [
       "<div>\n",
       "<style scoped>\n",
       "    .dataframe tbody tr th:only-of-type {\n",
       "        vertical-align: middle;\n",
       "    }\n",
       "\n",
       "    .dataframe tbody tr th {\n",
       "        vertical-align: top;\n",
       "    }\n",
       "\n",
       "    .dataframe thead th {\n",
       "        text-align: right;\n",
       "    }\n",
       "</style>\n",
       "<table border=\"1\" class=\"dataframe\">\n",
       "  <thead>\n",
       "    <tr style=\"text-align: right;\">\n",
       "      <th></th>\n",
       "      <th>Value</th>\n",
       "      <th>Rob. Std err</th>\n",
       "      <th>Rob. t-test</th>\n",
       "      <th>Rob. p-value</th>\n",
       "    </tr>\n",
       "  </thead>\n",
       "  <tbody>\n",
       "    <tr>\n",
       "      <th>coef_age_50_less</th>\n",
       "      <td>0.002615</td>\n",
       "      <td>0.016496</td>\n",
       "      <td>0.158526</td>\n",
       "      <td>0.874042</td>\n",
       "    </tr>\n",
       "    <tr>\n",
       "      <th>coef_employees</th>\n",
       "      <td>-0.039560</td>\n",
       "      <td>0.021237</td>\n",
       "      <td>-1.862768</td>\n",
       "      <td>0.062495</td>\n",
       "    </tr>\n",
       "    <tr>\n",
       "      <th>coef_haveChildren</th>\n",
       "      <td>-0.063030</td>\n",
       "      <td>0.025933</td>\n",
       "      <td>-2.430439</td>\n",
       "      <td>0.015081</td>\n",
       "    </tr>\n",
       "    <tr>\n",
       "      <th>coef_highEducation</th>\n",
       "      <td>-0.069685</td>\n",
       "      <td>0.036515</td>\n",
       "      <td>-1.908384</td>\n",
       "      <td>0.056342</td>\n",
       "    </tr>\n",
       "    <tr>\n",
       "      <th>coef_intercept</th>\n",
       "      <td>-0.433845</td>\n",
       "      <td>0.031169</td>\n",
       "      <td>-13.919188</td>\n",
       "      <td>0.000000</td>\n",
       "    </tr>\n",
       "    <tr>\n",
       "      <th>coef_male</th>\n",
       "      <td>0.089341</td>\n",
       "      <td>0.035363</td>\n",
       "      <td>2.526400</td>\n",
       "      <td>0.011524</td>\n",
       "    </tr>\n",
       "    <tr>\n",
       "      <th>coeff_LifSty07</th>\n",
       "      <td>3.571325</td>\n",
       "      <td>1.225731</td>\n",
       "      <td>2.913629</td>\n",
       "      <td>0.003573</td>\n",
       "    </tr>\n",
       "    <tr>\n",
       "      <th>coeff_LifSty10</th>\n",
       "      <td>1.937198</td>\n",
       "      <td>0.773894</td>\n",
       "      <td>2.503183</td>\n",
       "      <td>0.012308</td>\n",
       "    </tr>\n",
       "    <tr>\n",
       "      <th>coeff_ResidCh04</th>\n",
       "      <td>-0.877963</td>\n",
       "      <td>0.603826</td>\n",
       "      <td>-1.454001</td>\n",
       "      <td>0.145946</td>\n",
       "    </tr>\n",
       "    <tr>\n",
       "      <th>coeff_ResidCh05</th>\n",
       "      <td>1.521038</td>\n",
       "      <td>1.067413</td>\n",
       "      <td>1.424976</td>\n",
       "      <td>0.154164</td>\n",
       "    </tr>\n",
       "    <tr>\n",
       "      <th>coeff_ResidCh06</th>\n",
       "      <td>0.273239</td>\n",
       "      <td>0.725202</td>\n",
       "      <td>0.376777</td>\n",
       "      <td>0.706339</td>\n",
       "    </tr>\n",
       "    <tr>\n",
       "      <th>delta_1</th>\n",
       "      <td>0.477581</td>\n",
       "      <td>0.011890</td>\n",
       "      <td>40.166549</td>\n",
       "      <td>0.000000</td>\n",
       "    </tr>\n",
       "    <tr>\n",
       "      <th>delta_2</th>\n",
       "      <td>1.005778</td>\n",
       "      <td>0.023713</td>\n",
       "      <td>42.414249</td>\n",
       "      <td>0.000000</td>\n",
       "    </tr>\n",
       "    <tr>\n",
       "      <th>inter_LifSty07</th>\n",
       "      <td>0.685964</td>\n",
       "      <td>0.557173</td>\n",
       "      <td>1.231152</td>\n",
       "      <td>0.218266</td>\n",
       "    </tr>\n",
       "    <tr>\n",
       "      <th>inter_LifSty10</th>\n",
       "      <td>0.583071</td>\n",
       "      <td>0.352978</td>\n",
       "      <td>1.651864</td>\n",
       "      <td>0.098562</td>\n",
       "    </tr>\n",
       "    <tr>\n",
       "      <th>inter_ResidCh04</th>\n",
       "      <td>-0.321992</td>\n",
       "      <td>0.271261</td>\n",
       "      <td>-1.187020</td>\n",
       "      <td>0.235220</td>\n",
       "    </tr>\n",
       "    <tr>\n",
       "      <th>inter_ResidCh05</th>\n",
       "      <td>-1.154418</td>\n",
       "      <td>0.483131</td>\n",
       "      <td>-2.389452</td>\n",
       "      <td>0.016874</td>\n",
       "    </tr>\n",
       "    <tr>\n",
       "      <th>inter_ResidCh06</th>\n",
       "      <td>-0.463251</td>\n",
       "      <td>0.327460</td>\n",
       "      <td>-1.414679</td>\n",
       "      <td>0.157163</td>\n",
       "    </tr>\n",
       "    <tr>\n",
       "      <th>sigma_star_LifSty07</th>\n",
       "      <td>1.099032</td>\n",
       "      <td>0.031414</td>\n",
       "      <td>34.985648</td>\n",
       "      <td>0.000000</td>\n",
       "    </tr>\n",
       "    <tr>\n",
       "      <th>sigma_star_LifSty10</th>\n",
       "      <td>0.961337</td>\n",
       "      <td>0.025349</td>\n",
       "      <td>37.924102</td>\n",
       "      <td>0.000000</td>\n",
       "    </tr>\n",
       "    <tr>\n",
       "      <th>sigma_star_ResidCh04</th>\n",
       "      <td>0.926158</td>\n",
       "      <td>0.024177</td>\n",
       "      <td>38.306965</td>\n",
       "      <td>0.000000</td>\n",
       "    </tr>\n",
       "    <tr>\n",
       "      <th>sigma_star_ResidCh05</th>\n",
       "      <td>1.417240</td>\n",
       "      <td>0.053808</td>\n",
       "      <td>26.339010</td>\n",
       "      <td>0.000000</td>\n",
       "    </tr>\n",
       "    <tr>\n",
       "      <th>sigma_star_ResidCh06</th>\n",
       "      <td>1.372928</td>\n",
       "      <td>0.036454</td>\n",
       "      <td>37.662285</td>\n",
       "      <td>0.000000</td>\n",
       "    </tr>\n",
       "  </tbody>\n",
       "</table>\n",
       "</div>"
      ],
      "text/plain": [
       "                         Value  Rob. Std err  Rob. t-test  Rob. p-value\n",
       "coef_age_50_less      0.002615      0.016496     0.158526      0.874042\n",
       "coef_employees       -0.039560      0.021237    -1.862768      0.062495\n",
       "coef_haveChildren    -0.063030      0.025933    -2.430439      0.015081\n",
       "coef_highEducation   -0.069685      0.036515    -1.908384      0.056342\n",
       "coef_intercept       -0.433845      0.031169   -13.919188      0.000000\n",
       "coef_male             0.089341      0.035363     2.526400      0.011524\n",
       "coeff_LifSty07        3.571325      1.225731     2.913629      0.003573\n",
       "coeff_LifSty10        1.937198      0.773894     2.503183      0.012308\n",
       "coeff_ResidCh04      -0.877963      0.603826    -1.454001      0.145946\n",
       "coeff_ResidCh05       1.521038      1.067413     1.424976      0.154164\n",
       "coeff_ResidCh06       0.273239      0.725202     0.376777      0.706339\n",
       "delta_1               0.477581      0.011890    40.166549      0.000000\n",
       "delta_2               1.005778      0.023713    42.414249      0.000000\n",
       "inter_LifSty07        0.685964      0.557173     1.231152      0.218266\n",
       "inter_LifSty10        0.583071      0.352978     1.651864      0.098562\n",
       "inter_ResidCh04      -0.321992      0.271261    -1.187020      0.235220\n",
       "inter_ResidCh05      -1.154418      0.483131    -2.389452      0.016874\n",
       "inter_ResidCh06      -0.463251      0.327460    -1.414679      0.157163\n",
       "sigma_star_LifSty07   1.099032      0.031414    34.985648      0.000000\n",
       "sigma_star_LifSty10   0.961337      0.025349    37.924102      0.000000\n",
       "sigma_star_ResidCh04  0.926158      0.024177    38.306965      0.000000\n",
       "sigma_star_ResidCh05  1.417240      0.053808    26.339010      0.000000\n",
       "sigma_star_ResidCh06  1.372928      0.036454    37.662285      0.000000"
      ]
     },
     "execution_count": 15,
     "metadata": {},
     "output_type": "execute_result"
    }
   ],
   "source": [
    "results.get_estimated_parameters()"
   ]
  },
  {
   "cell_type": "code",
   "execution_count": 16,
   "id": "8fa4c779-6415-416b-b954-0ea9401785ab",
   "metadata": {},
   "outputs": [
    {
     "name": "stdout",
     "output_type": "stream",
     "text": [
      "Results for model m01_latent_variable\n",
      "Nbr of parameters:\t\t23\n",
      "Sample size:\t\t\t1906\n",
      "Excluded data:\t\t\t0\n",
      "Final log likelihood:\t\t-14206.46\n",
      "Akaike Information Criterion:\t28458.92\n",
      "Bayesian Information Criterion:\t28586.63\n",
      "\n"
     ]
    }
   ],
   "source": [
    "print(results.short_summary())"
   ]
  },
  {
   "cell_type": "code",
   "execution_count": null,
   "id": "6899af9f-1dc2-44aa-be6a-ad62c287d377",
   "metadata": {},
   "outputs": [],
   "source": []
  }
 ],
 "metadata": {
  "kernelspec": {
   "display_name": "Python 3 (ipykernel)",
   "language": "python",
   "name": "python3"
  },
  "language_info": {
   "codemirror_mode": {
    "name": "ipython",
    "version": 3
   },
   "file_extension": ".py",
   "mimetype": "text/x-python",
   "name": "python",
   "nbconvert_exporter": "python",
   "pygments_lexer": "ipython3",
   "version": "3.12.7"
  }
 },
 "nbformat": 4,
 "nbformat_minor": 5
}
