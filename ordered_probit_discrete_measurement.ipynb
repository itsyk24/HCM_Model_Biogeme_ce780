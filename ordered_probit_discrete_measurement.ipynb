{
 "cells": [
  {
   "cell_type": "code",
   "execution_count": null,
   "id": "b618e038-986f-471a-ae6d-030a56343ed4",
   "metadata": {},
   "outputs": [],
   "source": [
    "import biogeme.biogeme_logging as blog\n",
    "import biogeme.biogeme as bio\n",
    "from biogeme.expressions import (\n",
    "    Beta,\n",
    "    log,\n",
    "    Elem,\n",
    "    bioNormalCdf,\n",
    "    Variable,\n",
    "    bioMultSum,\n",
    ")\n",
    "\n",
    "from optima import (\n",
    "    read_data,\n",
    "    male,\n",
    "    age,\n",
    "    haveChildren,\n",
    "    highEducation,\n",
    "    SocioProfCat,\n",
    ")\n",
    "\n",
    "logger = blog.get_screen_logger(level=blog.INFO)\n",
    "logger.info('Example m01_latent_variable.py')"
   ]
  },
  {
   "cell_type": "code",
   "execution_count": null,
   "id": "dacb4a3f-e749-4ec9-add4-ac9e6234c5b1",
   "metadata": {},
   "outputs": [],
   "source": [
    "coef_intercept = Beta('coef_intercept', 0.0, None, None, 0)\n",
    "coef_age_50_less = Beta('coef_age_50_less', 0.0, None, None, 0)\n",
    "coef_male = Beta('coef_male', 0.0, None, None, 0)\n",
    "coef_haveChildren = Beta('coef_haveChildren', 0.0, None, None, 0)\n",
    "coef_highEducation = Beta('coef_highEducation', 0.0, None, None, 0)\n",
    "coef_employees = Beta('coef_employees', 0.0, None, None, 0)"
   ]
  },
  {
   "cell_type": "code",
   "execution_count": null,
   "id": "176a2dd9-8dfd-454a-aed2-5ee0f29c84ce",
   "metadata": {},
   "outputs": [],
   "source": [
    "URB_PREF = (\n",
    "    coef_intercept\n",
    "        + coef_highEducation * highEducation\n",
    "    + coef_employees * (SocioProfCat == 6)\n",
    "    + coef_age_50_less * (age <= 50)\n",
    "    + coef_male * male\n",
    "    + coef_haveChildren * haveChildren\n",
    ")"
   ]
  },
  {
   "cell_type": "code",
   "execution_count": null,
   "id": "ba4275a6-797b-45c1-b455-4bedfe69e6ff",
   "metadata": {},
   "outputs": [],
   "source": [
    "indicators = [\n",
    "    'ResidCh01',\n",
    "    'ResidCh04',\n",
    "    'ResidCh05',\n",
    "    'ResidCh06',\n",
    "    'LifSty07',\n",
    "    'LifSty10',\n",
    "]"
   ]
  },
  {
   "cell_type": "code",
   "execution_count": null,
   "id": "bd3e5bc3-ac3d-4562-b4ae-a7a23c6536de",
   "metadata": {},
   "outputs": [],
   "source": [
    "inter = {k: Beta(f'inter_{k}', 0, None, None, 0) for k in indicators[1:]}\n",
    "inter[indicators[0]] = Beta(f'INTER_{indicators[0]}', 0, None, None, 1)"
   ]
  },
  {
   "cell_type": "code",
   "execution_count": null,
   "id": "bb12a3de-51cd-4097-bccc-b67cc863647b",
   "metadata": {},
   "outputs": [],
   "source": [
    "coefficients = {k: Beta(f'coeff_{k}', 0, None, None, 0) for k in indicators[1:]}\n",
    "coefficients[indicators[0]] = Beta(f'B_{indicators[0]}', 1, None, None, 1)"
   ]
  },
  {
   "cell_type": "code",
   "execution_count": null,
   "id": "26bc76fa-ca59-481e-bc97-1348bd2cb3a9",
   "metadata": {},
   "outputs": [],
   "source": [
    "models = {k: inter[k] + coefficients[k] * URB_PREF for k in indicators}"
   ]
  },
  {
   "cell_type": "code",
   "execution_count": null,
   "id": "19e133fb-b243-4e59-ad76-e8f31adf9061",
   "metadata": {},
   "outputs": [],
   "source": [
    "sigma_star = {k: Beta(f'sigma_star_{k}', 1, 1.0e-5, None, 0) for k in indicators[1:]}\n",
    "sigma_star[indicators[0]] = Beta(f'sigma_star_{indicators[0]}', 1, None, None, 1)"
   ]
  },
  {
   "cell_type": "code",
   "execution_count": null,
   "id": "6aff5b06-24b6-466a-99ba-2f28e2fd80a7",
   "metadata": {},
   "outputs": [],
   "source": [
    "delta_1 = Beta('delta_1', 0.1, 1.0e-5, None, 0)\n",
    "delta_2 = Beta('delta_2', 0.2, 1.0e-5, None, 0)\n",
    "tau_1 = -delta_1 - delta_2\n",
    "tau_2 = -delta_1\n",
    "tau_3 = delta_1\n",
    "tau_4 = delta_1 + delta_2"
   ]
  },
  {
   "cell_type": "code",
   "execution_count": null,
   "id": "1375c041-9aca-4bc9-b71d-e4973192e40b",
   "metadata": {},
   "outputs": [],
   "source": [
    "tau_1_residual = {k: (tau_1 - models[k]) / sigma_star[k] for k in indicators}\n",
    "tau_2_residual = {k: (tau_2 - models[k]) / sigma_star[k] for k in indicators}\n",
    "tau_3_residual = {k: (tau_3 - models[k]) / sigma_star[k] for k in indicators}\n",
    "tau_4_residual = {k: (tau_4 - models[k]) / sigma_star[k] for k in indicators}\n",
    "dict_prob_indicators = {\n",
    "    k: {\n",
    "        1: bioNormalCdf(tau_1_residual[k]),\n",
    "        2: bioNormalCdf(tau_2_residual[k]) - bioNormalCdf(tau_1_residual[k]),\n",
    "        3: bioNormalCdf(tau_3_residual[k]) - bioNormalCdf(tau_2_residual[k]),\n",
    "        4: bioNormalCdf(tau_4_residual[k]) - bioNormalCdf(tau_3_residual[k]),\n",
    "        5: 1 - bioNormalCdf(tau_4_residual[k]),\n",
    "        6: 1.0,\n",
    "        -1: 1.0,\n",
    "        -2: 1.0,\n",
    "    }\n",
    "    for k in indicators\n",
    "}"
   ]
  },
  {
   "cell_type": "code",
   "execution_count": null,
   "id": "7a14ca9e-cc43-4d02-a125-2422b5f99b35",
   "metadata": {},
   "outputs": [],
   "source": [
    "log_proba = {k: log(Elem(dict_prob_indicators[k], Variable(k))) for k in indicators}\n",
    "loglike = bioMultSum(log_proba)"
   ]
  },
  {
   "cell_type": "code",
   "execution_count": null,
   "id": "0b604a4d-4b7a-4600-906c-1c687502fd90",
   "metadata": {},
   "outputs": [],
   "source": [
    "database = read_data()"
   ]
  },
  {
   "cell_type": "code",
   "execution_count": null,
   "id": "5874fa38-6020-48c1-9a4a-7c5b200205a0",
   "metadata": {},
   "outputs": [],
   "source": [
    "biogeme = bio.BIOGEME(database, loglike)\n",
    "biogeme.modelName = 'm01_latent_variable'"
   ]
  },
  {
   "cell_type": "code",
   "execution_count": null,
   "id": "fc7a0a76-4104-4798-8986-b5f8db317a6c",
   "metadata": {},
   "outputs": [],
   "source": [
    "results = biogeme.estimate()"
   ]
  },
  {
   "cell_type": "code",
   "execution_count": null,
   "id": "4167bf72-a9ff-4eca-841c-c3b9e8dccbeb",
   "metadata": {},
   "outputs": [],
   "source": [
    "results.get_estimated_parameters()"
   ]
  },
  {
   "cell_type": "code",
   "execution_count": null,
   "id": "8fa4c779-6415-416b-b954-0ea9401785ab",
   "metadata": {},
   "outputs": [],
   "source": [
    "print(results.short_summary())"
   ]
  }
 ],
 "metadata": {
  "kernelspec": {
   "display_name": "Python 3 (ipykernel)",
   "language": "python",
   "name": "python3"
  },
  "language_info": {
   "codemirror_mode": {
    "name": "ipython",
    "version": 3
   },
   "file_extension": ".py",
   "mimetype": "text/x-python",
   "name": "python",
   "nbconvert_exporter": "python",
   "pygments_lexer": "ipython3",
   "version": "3.12.7"
  }
 },
 "nbformat": 4,
 "nbformat_minor": 5
}
