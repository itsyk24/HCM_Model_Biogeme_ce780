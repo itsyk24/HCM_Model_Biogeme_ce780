{
 "cells": [
  {
   "cell_type": "code",
   "execution_count": null,
   "id": "52606da7-a53e-40a0-8039-734f0e43f174",
   "metadata": {},
   "outputs": [],
   "source": [
    "import sys\n",
    "import pandas as pd\n",
    "import numpy as np\n",
    "from IPython.core.display_functions import display\n",
    "from optima import data_file_path"
   ]
  },
  {
   "cell_type": "code",
   "execution_count": null,
   "id": "ae7f97e5-c767-4d12-bc09-fd4ac178b561",
   "metadata": {},
   "outputs": [],
   "source": [
    "try:\n",
    "    from factor_analyzer import FactorAnalyzer\n",
    "except ModuleNotFoundError:\n",
    "    print('Use \"pip install factor_analyzer\" to install a requested package')\n",
    "    sys.exit()"
   ]
  },
  {
   "cell_type": "code",
   "execution_count": null,
   "id": "bf96e5a8-ef68-45aa-97e8-1c8fa99a2288",
   "metadata": {},
   "outputs": [],
   "source": [
    "variables = [\n",
    "    'Envir01',\n",
    "    'Envir02',\n",
    "    'Envir03',\n",
    "    'Envir04',\n",
    "    'Envir05',\n",
    "    'Envir06',\n",
    "    'Mobil01',\n",
    "    'Mobil02',\n",
    "    'Mobil03',\n",
    "    'Mobil04',\n",
    "    'Mobil05',\n",
    "    'Mobil06',\n",
    "    'Mobil07',\n",
    "    'Mobil08',\n",
    "    'Mobil09',\n",
    "    'Mobil10',\n",
    "    'Mobil11',\n",
    "    'Mobil12',\n",
    "    'Mobil13',\n",
    "    'Mobil14',\n",
    "    'Mobil15',\n",
    "    'Mobil16',\n",
    "    'Mobil17',\n",
    "    'Mobil18',\n",
    "    'Mobil19',\n",
    "    'Mobil20',\n",
    "    'Mobil21',\n",
    "    'Mobil22',\n",
    "    'Mobil23',\n",
    "    'Mobil24',\n",
    "    'Mobil25',\n",
    "    'Mobil26',\n",
    "    'Mobil27',\n",
    "    'ResidCh01',\n",
    "    'ResidCh02',\n",
    "    'ResidCh03',\n",
    "    'ResidCh04',\n",
    "    'ResidCh05',\n",
    "    'ResidCh06',\n",
    "    'ResidCh07',\n",
    "    'LifSty01',\n",
    "    'LifSty02',\n",
    "    'LifSty03',\n",
    "    'LifSty04',\n",
    "    'LifSty05',\n",
    "    'LifSty06',\n",
    "    'LifSty07',\n",
    "    'LifSty08',\n",
    "    'LifSty09',\n",
    "    'LifSty10',\n",
    "    'LifSty11',\n",
    "    'LifSty12',\n",
    "    'LifSty13',\n",
    "    'LifSty14',\n",
    "]\n",
    "\n",
    "indicators = pd.read_csv(data_file_path, sep='\\t', usecols=variables)"
   ]
  },
  {
   "cell_type": "code",
   "execution_count": null,
   "id": "e4f3586e-8b34-4d95-8a7e-862dec091dc6",
   "metadata": {},
   "outputs": [],
   "source": [
    "indicators[indicators <= 0] = np.nan\n",
    "indicators = indicators.dropna(axis=0, how='any')"
   ]
  },
  {
   "cell_type": "code",
   "execution_count": null,
   "id": "6256332b-c40d-4920-9b0b-66d704f11b3b",
   "metadata": {},
   "outputs": [],
   "source": [
    "fa = FactorAnalyzer(rotation='varimax')\n",
    "fa.fit(indicators)"
   ]
  },
  {
   "cell_type": "code",
   "execution_count": null,
   "id": "45bdd6cb-cbd4-41a3-9104-2faeaf96c3d2",
   "metadata": {},
   "outputs": [],
   "source": [
    "labeled_results = pd.DataFrame(fa.loadings_)\n",
    "labeled_results.index = variables\n",
    "display(labeled_results)"
   ]
  },
  {
   "cell_type": "code",
   "execution_count": null,
   "id": "a1082567-290c-47e4-a1e0-0a296317c43a",
   "metadata": {},
   "outputs": [],
   "source": [
    "labeled_results = labeled_results.astype('object')\n",
    "labeled_results[(labeled_results <= 0.4) & (labeled_results >= -0.4)] = ''"
   ]
  },
  {
   "cell_type": "code",
   "execution_count": null,
   "id": "8906ca15-1222-413b-bb63-98bbae591fa0",
   "metadata": {},
   "outputs": [],
   "source": [
    "display(labeled_results)"
   ]
  }
 ],
 "metadata": {
  "kernelspec": {
   "display_name": "Python 3 (ipykernel)",
   "language": "python",
   "name": "python3"
  },
  "language_info": {
   "codemirror_mode": {
    "name": "ipython",
    "version": 3
   },
   "file_extension": ".py",
   "mimetype": "text/x-python",
   "name": "python",
   "nbconvert_exporter": "python",
   "pygments_lexer": "ipython3",
   "version": "3.12.7"
  }
 },
 "nbformat": 4,
 "nbformat_minor": 5
}
