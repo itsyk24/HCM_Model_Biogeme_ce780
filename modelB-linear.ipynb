{
 "cells": [
  {
   "cell_type": "code",
   "execution_count": null,
   "id": "04f44583-9dc6-40cc-bc23-1d99fb450da0",
   "metadata": {},
   "outputs": [],
   "source": [
    "import sys\n",
    "import biogeme.biogeme_logging as blog\n",
    "import biogeme.exceptions as excep\n",
    "import biogeme.biogeme as bio\n",
    "import biogeme.distributions as dist\n",
    "import biogeme.results as res\n",
    "from biogeme import models\n",
    "from biogeme.expressions import (\n",
    "    Beta,\n",
    "    RandomVariable,\n",
    "    exp,\n",
    "    log,\n",
    "    Integrate,\n",
    ")\n",
    "\n",
    "from read_or_estimate import read_or_estimate\n",
    "\n",
    "from optima import (\n",
    "    read_data,\n",
    "    male,\n",
    "    age,\n",
    "    haveChildren,\n",
    "    highEducation,\n",
    "       SocioProfCat,\n",
    "    WaitingTimePT,\n",
    "    Choice,\n",
    "    TimePT_scaled,\n",
    "    TimeCar_scaled,\n",
    "    MarginalCostPT_scaled,\n",
    "    CostCarCHF_scaled,\n",
    "    distance_km_scaled,\n",
    "    )\n",
    "\n",
    "logger = blog.get_screen_logger(level=blog.INFO)\n",
    "logger.info('Example m03_sequential_estimation.py')"
   ]
  },
  {
   "cell_type": "code",
   "execution_count": null,
   "id": "05e0b214-23bb-4ef7-bd4e-4dc2e92e64a6",
   "metadata": {},
   "outputs": [],
   "source": [
    "MODELNAME = 'm01_latent_variable'\n",
    "try:\n",
    "    struct_results = res.bioResults(pickle_file=f'{MODELNAME}.pickle')\n",
    "except excep.BiogemeError:\n",
    "    print(\n",
    "        f'Run first the script {MODELNAME}.py in order to generate the '\n",
    "        f'file {MODELNAME}.pickle, and move it to the directory saved_results'\n",
    "    )\n",
    "    sys.exit()\n",
    "struct_betas = struct_results.get_beta_values()"
   ]
  },
  {
   "cell_type": "code",
   "execution_count": null,
   "id": "b4898051-d451-4cf7-80aa-2ed8b67f22e0",
   "metadata": {},
   "outputs": [],
   "source": [
    "coef_intercept = struct_betas['coef_intercept']\n",
    "coef_age_50_less = struct_betas['coef_age_50_less']\n",
    "coef_male = struct_betas['coef_male']\n",
    "coef_haveChildren = struct_betas['coef_haveChildren']\n",
    "coef_highEducation = struct_betas['coef_highEducation']\n",
    "coef_employees = struct_betas['coef_employees']\n"
   ]
  },
  {
   "cell_type": "code",
   "execution_count": null,
   "id": "14e1623c-5751-442e-a063-98adbdbe05c9",
   "metadata": {},
   "outputs": [],
   "source": [
    "omega = RandomVariable('omega')\n",
    "density = dist.normalpdf(omega)\n",
    "sigma_s = Beta('sigma_s', 1, None, None, 0)"
   ]
  },
  {
   "cell_type": "code",
   "execution_count": null,
   "id": "d0b8813b-a8a2-4521-8aae-1a5166d8f583",
   "metadata": {},
   "outputs": [],
   "source": [
    "URB_PREF = (\n",
    "    coef_intercept\n",
    "        + coef_highEducation * highEducation\n",
    "       + coef_employees * (SocioProfCat == 6)\n",
    "    + coef_age_50_less * (age <= 50)\n",
    "    + coef_male * male\n",
    "    + coef_haveChildren * haveChildren\n",
    "    + sigma_s * omega\n",
    ")"
   ]
  },
  {
   "cell_type": "code",
   "execution_count": null,
   "id": "46674aa8-6445-4776-a681-fde8e6248179",
   "metadata": {},
   "outputs": [],
   "source": [
    "ASC_CAR = Beta('ASC_CAR', 0.94, None, None, 0)\n",
    "ASC_PT = Beta('ASC_PT', 0, None, None, 1)\n",
    "ASC_SM = Beta('ASC_SM', 0.35, None, None, 0)\n",
    "BETA_DIST = Beta('BETA_DIST', -1.3, None, None, 0)\n",
    "BETA_TIME_CAR_REF = Beta('BETA_TIME_CAR_REF', -6.1, None, 0, 0)\n",
    "BETA_TIME_PT_REF = Beta('BETA_TIME_PT_REF', 0, None, 0, 0)\n",
    "BETA_WAITING_TIME = Beta('BETA_WAITING_TIME', -0.075, None, None, 0)"
   ]
  },
  {
   "cell_type": "code",
   "execution_count": null,
   "id": "65cee1a6-0b52-4043-8e18-90b570580368",
   "metadata": {},
   "outputs": [],
   "source": [
    "BETA_TIME_PT_UP = Beta('BETA_TIME_PT_UP', 1.5, None, None, 0)\n",
    "BETA_TIME_PT = BETA_TIME_PT_REF + BETA_TIME_PT_UP * URB_PREF\n",
    "BETA_TIME_CAR_UP = Beta('BETA_TIME_CAR_UP', -0.11, None, None, 0)\n",
    "BETA_TIME_CAR = BETA_TIME_CAR_REF  + BETA_TIME_CAR_UP * URB_PREF"
   ]
  },
  {
   "cell_type": "code",
   "execution_count": null,
   "id": "eb063bed-c4e4-449e-ad58-62aa7cc28705",
   "metadata": {},
   "outputs": [],
   "source": [
    "V0 = (\n",
    "    ASC_PT\n",
    "    + BETA_TIME_PT * TimePT_scaled\n",
    "    + BETA_WAITING_TIME * WaitingTimePT\n",
    ")\n",
    "\n",
    "V1 = (\n",
    "    ASC_CAR\n",
    "    + BETA_TIME_CAR * TimeCar_scaled\n",
    "\n",
    ")\n",
    "\n",
    "V2 = ASC_SM + BETA_DIST * distance_km_scaled"
   ]
  },
  {
   "cell_type": "code",
   "execution_count": null,
   "id": "569e53e8-3dfb-4bca-9186-b06d53c83d07",
   "metadata": {},
   "outputs": [],
   "source": [
    "V = {0: V0, 1: V1, 2: V2}"
   ]
  },
  {
   "cell_type": "code",
   "execution_count": null,
   "id": "6c01d03f-c2a9-46fc-b67b-dccb274244af",
   "metadata": {},
   "outputs": [],
   "source": [
    "condprob = models.logit(V, None, Choice)"
   ]
  },
  {
   "cell_type": "code",
   "execution_count": null,
   "id": "a407a357-aadb-44ba-a360-8cede1f4cb82",
   "metadata": {},
   "outputs": [],
   "source": [
    "loglike = log(Integrate(condprob * density, 'omega'))"
   ]
  },
  {
   "cell_type": "code",
   "execution_count": null,
   "id": "f2f3b19c-453f-4f5b-b1e5-3c98d23a0383",
   "metadata": {},
   "outputs": [],
   "source": [
    "database = read_data()"
   ]
  },
  {
   "cell_type": "code",
   "execution_count": null,
   "id": "cec687ef-0b1d-4043-bbe3-4c50cc400cec",
   "metadata": {},
   "outputs": [],
   "source": [
    "the_biogeme = bio.BIOGEME(database, loglike)\n",
    "the_biogeme.modelName = 'm03_sequential_estimation'\n",
    "the_biogeme.maxiter = 1000"
   ]
  },
  {
   "cell_type": "code",
   "execution_count": null,
   "id": "d4a3c5e0-296d-4027-91e8-60d91adb1e05",
   "metadata": {},
   "outputs": [],
   "source": [
    "results = read_or_estimate(the_biogeme=the_biogeme, directory='saved_results')"
   ]
  },
  {
   "cell_type": "code",
   "execution_count": null,
   "id": "99d20afc-1bf2-43c0-bcb1-14985cfba3b6",
   "metadata": {},
   "outputs": [],
   "source": [
    "print(results.short_summary())"
   ]
  },
  {
   "cell_type": "code",
   "execution_count": null,
   "id": "d867dd13-ce0c-4d61-bf5f-1e943d17fa51",
   "metadata": {},
   "outputs": [],
   "source": [
    "print(f'Final log likelihood: {results.data.logLike:.3f}')\n",
    "print(f'Output file: {results.data.htmlFileName}')"
   ]
  },
  {
   "cell_type": "code",
   "execution_count": null,
   "id": "08f06554-3c51-4ed8-a28b-0fb5370739a7",
   "metadata": {},
   "outputs": [],
   "source": [
    "results.get_estimated_parameters()"
   ]
  },
  {
   "cell_type": "code",
   "execution_count": null,
   "id": "425153b7-177c-4527-aeb6-53e4c2031797",
   "metadata": {},
   "outputs": [],
   "source": []
  }
 ],
 "metadata": {
  "kernelspec": {
   "display_name": "Python 3 (ipykernel)",
   "language": "python",
   "name": "python3"
  },
  "language_info": {
   "codemirror_mode": {
    "name": "ipython",
    "version": 3
   },
   "file_extension": ".py",
   "mimetype": "text/x-python",
   "name": "python",
   "nbconvert_exporter": "python",
   "pygments_lexer": "ipython3",
   "version": "3.12.7"
  }
 },
 "nbformat": 4,
 "nbformat_minor": 5
}
