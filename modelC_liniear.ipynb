{
 "cells": [
  {
   "cell_type": "code",
   "execution_count": null,
   "id": "edda4a4b-81b8-442b-ab8a-500f5d67d97c",
   "metadata": {},
   "outputs": [],
   "source": [
    "import sys\n",
    "import biogeme.biogeme_logging as blog\n",
    "import biogeme.exceptions as excep\n",
    "import biogeme.biogeme as bio\n",
    "import biogeme.distributions as dist\n",
    "import biogeme.results as res\n",
    "from biogeme import models\n",
    "from biogeme.expressions import (\n",
    "    Beta,\n",
    "    RandomVariable,\n",
    "    exp,\n",
    "    log,\n",
    "    Integrate,\n",
    ")\n",
    "\n",
    "from read_or_estimate import read_or_estimate\n",
    "\n",
    "from optima import (\n",
    "    read_data,\n",
    "    male,\n",
    "    age,\n",
    "    haveChildren,\n",
    "    highEducation,\n",
    "       SocioProfCat,\n",
    "    WaitingTimePT,\n",
    "    Choice,\n",
    "    TimePT_scaled,\n",
    "    TimeCar_scaled,\n",
    "    MarginalCostPT_scaled,\n",
    "    CostCarCHF_scaled,\n",
    "    distance_km_scaled,\n",
    "    PurpHWH,\n",
    "    PurpOther,\n",
    ")\n",
    "\n",
    "logger = blog.get_screen_logger(level=blog.INFO)\n",
    "logger.info('Example m04_sequential_estimation.py')"
   ]
  },
  {
   "cell_type": "code",
   "execution_count": null,
   "id": "32a7cde2-26d9-4f30-967d-9b2be1161eb9",
   "metadata": {},
   "outputs": [],
   "source": [
    "MODELNAME = 'm01_latent_variable'\n",
    "try:\n",
    "    struct_results = res.bioResults(pickle_file=f'{MODELNAME}.pickle')\n",
    "except excep.BiogemeError:\n",
    "    print(\n",
    "        f'Run first the script {MODELNAME}.py in order to generate the '\n",
    "        f'file {MODELNAME}.pickle, and move it to the directory saved_results'\n",
    "    )\n",
    "    sys.exit()\n",
    "struct_betas = struct_results.get_beta_values()"
   ]
  },
  {
   "cell_type": "code",
   "execution_count": null,
   "id": "6d0d7c49-4955-404f-b3e7-b81ff0267de9",
   "metadata": {},
   "outputs": [],
   "source": [
    "coef_intercept = struct_betas['coef_intercept']\n",
    "coef_age_50_less = struct_betas['coef_age_50_less']\n",
    "coef_male = struct_betas['coef_male']\n",
    "coef_haveChildren = struct_betas['coef_haveChildren']\n",
    "coef_highEducation = struct_betas['coef_highEducation']\n",
    "coef_employees = struct_betas['coef_employees']\n"
   ]
  },
  {
   "cell_type": "code",
   "execution_count": null,
   "id": "d3a8dbb6-b011-4042-b914-89d7bf428a74",
   "metadata": {},
   "outputs": [],
   "source": [
    "omega = RandomVariable('omega')\n",
    "density = dist.normalpdf(omega)\n",
    "sigma_s = Beta('sigma_s', 1, None, None, 0)"
   ]
  },
  {
   "cell_type": "code",
   "execution_count": null,
   "id": "03e9a828-f64e-4cc6-a691-b54be4daa3c9",
   "metadata": {},
   "outputs": [],
   "source": [
    "URB_PREF = (\n",
    "    coef_intercept\n",
    "        + coef_highEducation * highEducation\n",
    "       + coef_employees * (SocioProfCat == 6)\n",
    "    + coef_age_50_less * (age <= 50)\n",
    "    + coef_male * male\n",
    "    + coef_haveChildren * haveChildren\n",
    "    + sigma_s * omega\n",
    ")"
   ]
  },
  {
   "cell_type": "code",
   "execution_count": null,
   "id": "4608b40b-bac4-4cd1-8a80-c0fd989474cd",
   "metadata": {},
   "outputs": [],
   "source": [
    "ASC_CAR = Beta('ASC_CAR', 0.94, None, None, 0)\n",
    "ASC_PT = Beta('ASC_PT', 0, None, None, 1)\n",
    "ASC_SM = Beta('ASC_SM', 0.35, None, None, 0)\n",
    "BETA_COST_HWH = Beta('BETA_COST_HWH', -2.3, None, None, 0)\n",
    "BETA_COST_OTHER = Beta('BETA_COST_OTHER', -1.9, None, None, 0)\n",
    "BETA_DIST = Beta('BETA_DIST', -1.3, None, None, 0)\n",
    "BETA_TIME_CAR_REF = Beta('BETA_TIME_CAR_REF', -6.1, None, 0, 0)\n",
    "BETA_TIME_PT_REF = Beta('BETA_TIME_PT_REF', 0, None, 0, 0)\n",
    "BETA_WAITING_TIME = Beta('BETA_WAITING_TIME', -0.075, None, None, 0)"
   ]
  },
  {
   "cell_type": "code",
   "execution_count": null,
   "id": "bbf721b4-5a0a-43c1-89d8-2f38b43ed69e",
   "metadata": {},
   "outputs": [],
   "source": [
    "BETA_TIME_PT_UP = Beta('BETA_TIME_PT_UP', 1.5, None, None, 0)\n",
    "BETA_TIME_PT = BETA_TIME_PT_REF + BETA_TIME_PT_UP * URB_PREF\n",
    "BETA_TIME_CAR_UP = Beta('BETA_TIME_CAR_UP', -0.11, None, None, 0)\n",
    "BETA_TIME_CAR = BETA_TIME_CAR_REF + BETA_TIME_CAR_UP * URB_PREF"
   ]
  },
  {
   "cell_type": "code",
   "execution_count": null,
   "id": "8f6e2c6b-9ac8-4416-a7f2-077eb0e816db",
   "metadata": {},
   "outputs": [],
   "source": [
    "V0 = (\n",
    "    ASC_PT\n",
    "    + BETA_TIME_PT * TimePT_scaled\n",
    "    + BETA_WAITING_TIME * WaitingTimePT\n",
    "    + BETA_COST_HWH * MarginalCostPT_scaled * PurpHWH\n",
    "    + BETA_COST_OTHER * MarginalCostPT_scaled * PurpOther\n",
    ")\n",
    "\n",
    "V1 = (\n",
    "    ASC_CAR\n",
    "    + BETA_TIME_CAR * TimeCar_scaled\n",
    "    + BETA_COST_HWH * CostCarCHF_scaled * PurpHWH\n",
    "    + BETA_COST_OTHER * CostCarCHF_scaled * PurpOther\n",
    ")\n",
    "\n",
    "V2 = ASC_SM + BETA_DIST * distance_km_scaled"
   ]
  },
  {
   "cell_type": "code",
   "execution_count": null,
   "id": "e0df5ed0-0688-4e0c-9664-5c7dbb10c189",
   "metadata": {},
   "outputs": [],
   "source": [
    "V = {0: V0, 1: V1, 2: V2}"
   ]
  },
  {
   "cell_type": "code",
   "execution_count": null,
   "id": "60d0fd97-cd15-4a31-93cf-2481796b407c",
   "metadata": {},
   "outputs": [],
   "source": [
    "condprob = models.logit(V, None, Choice)"
   ]
  },
  {
   "cell_type": "code",
   "execution_count": null,
   "id": "a6d66ec5-cdff-4eb6-ac5a-a54e1ac8939d",
   "metadata": {},
   "outputs": [],
   "source": [
    "loglike = log(Integrate(condprob * density, 'omega'))"
   ]
  },
  {
   "cell_type": "code",
   "execution_count": null,
   "id": "dd46aa82-1c55-4d02-82dc-3e8bab767a40",
   "metadata": {},
   "outputs": [],
   "source": [
    "database = read_data()"
   ]
  },
  {
   "cell_type": "code",
   "execution_count": null,
   "id": "531b7c6a-486b-4905-b68b-755c6a8e094b",
   "metadata": {},
   "outputs": [],
   "source": [
    "the_biogeme = bio.BIOGEME(database, loglike)\n",
    "the_biogeme.modelName = 'm04_sequential_estimation'\n",
    "the_biogeme.maxiter = 1000"
   ]
  },
  {
   "cell_type": "code",
   "execution_count": null,
   "id": "745a636b-79d4-43b8-a1c7-6c6c3745b8ad",
   "metadata": {},
   "outputs": [],
   "source": [
    "results = read_or_estimate(the_biogeme=the_biogeme, directory='saved_results')"
   ]
  },
  {
   "cell_type": "code",
   "execution_count": null,
   "id": "4ea9cbc5-e43e-4be3-beb8-b0e5462db6bb",
   "metadata": {},
   "outputs": [],
   "source": [
    "print(results.short_summary())"
   ]
  },
  {
   "cell_type": "code",
   "execution_count": null,
   "id": "23a428f0-ee1d-4e16-915a-422daa6596a6",
   "metadata": {},
   "outputs": [],
   "source": [
    "printprint(results.short_summary())(f'Final log likelihood: {results.data.logLike:.3f}')\n",
    "print(f'Output file: {results.data.htmlFileName}')"
   ]
  },
  {
   "cell_type": "code",
   "execution_count": null,
   "id": "a3eea6ca-435f-469a-bc0e-338e09553a4e",
   "metadata": {},
   "outputs": [],
   "source": [
    "results.get_estimated_parameters()"
   ]
  },
  {
   "cell_type": "code",
   "execution_count": null,
   "id": "761f904b-747a-4e7d-a676-e075a80f8668",
   "metadata": {},
   "outputs": [],
   "source": [
    "print(results.short_summary())"
   ]
  }
 ],
 "metadata": {
  "kernelspec": {
   "display_name": "Python 3 (ipykernel)",
   "language": "python",
   "name": "python3"
  },
  "language_info": {
   "codemirror_mode": {
    "name": "ipython",
    "version": 3
   },
   "file_extension": ".py",
   "mimetype": "text/x-python",
   "name": "python",
   "nbconvert_exporter": "python",
   "pygments_lexer": "ipython3",
   "version": "3.12.7"
  }
 },
 "nbformat": 4,
 "nbformat_minor": 5
}
